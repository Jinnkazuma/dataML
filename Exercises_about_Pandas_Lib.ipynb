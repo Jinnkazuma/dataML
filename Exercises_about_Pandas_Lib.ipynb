{
  "nbformat": 4,
  "nbformat_minor": 0,
  "metadata": {
    "colab": {
      "provenance": [],
      "authorship_tag": "ABX9TyNL6YMinG40SK/He/wOMyQS",
      "include_colab_link": true
    },
    "kernelspec": {
      "name": "python3",
      "display_name": "Python 3"
    },
    "language_info": {
      "name": "python"
    }
  },
  "cells": [
    {
      "cell_type": "markdown",
      "metadata": {
        "id": "view-in-github",
        "colab_type": "text"
      },
      "source": [
        "<a href=\"https://colab.research.google.com/github/Jinnkazuma/dataML/blob/main/Exercises_about_Pandas_Lib.ipynb\" target=\"_parent\"><img src=\"https://colab.research.google.com/assets/colab-badge.svg\" alt=\"Open In Colab\"/></a>"
      ]
    },
    {
      "cell_type": "code",
      "source": [
        "import numpy as np"
      ],
      "metadata": {
        "id": "Sn-khdNnJtO2"
      },
      "execution_count": null,
      "outputs": []
    },
    {
      "cell_type": "code",
      "execution_count": null,
      "metadata": {
        "colab": {
          "base_uri": "https://localhost:8080/"
        },
        "id": "Ru5DRXBqHzpK",
        "outputId": "31f958ce-ce2d-4e01-9e24-632457cd9763"
      },
      "outputs": [
        {
          "output_type": "stream",
          "name": "stdout",
          "text": [
            "[1 2 3 4 5]\n",
            "(5,)\n",
            "[[1 2 3 4 5]\n",
            " [1 2 3 4 5]]\n",
            "(2, 5)\n",
            "<class 'numpy.ndarray'>\n"
          ]
        }
      ],
      "source": [
        "aux=np.array([1,2,3,4,5])\n",
        "print(aux)\n",
        "print(aux.shape)\n",
        "\n",
        "aux2=np.array([[1,2,3,4,5],[1,2,3,4,5]])\n",
        "print(aux2)\n",
        "print(aux2.shape)\n",
        "print(type(aux2))"
      ]
    },
    {
      "cell_type": "code",
      "source": [
        "tmp=np.zeros((4,4))\n",
        "print(tmp)"
      ],
      "metadata": {
        "colab": {
          "base_uri": "https://localhost:8080/"
        },
        "id": "7m1iZHh6N1nH",
        "outputId": "3802b57f-d3f6-4d82-86a4-89fecd5d6e63"
      },
      "execution_count": null,
      "outputs": [
        {
          "output_type": "stream",
          "name": "stdout",
          "text": [
            "[[0. 0. 0. 0.]\n",
            " [0. 0. 0. 0.]\n",
            " [0. 0. 0. 0.]\n",
            " [0. 0. 0. 0.]]\n"
          ]
        }
      ]
    },
    {
      "cell_type": "code",
      "source": [
        "print(\"Matriz full valores del mismo numeroi\")\n",
        "tmp=np.full((4,4),5)\n",
        "print(tmp)"
      ],
      "metadata": {
        "colab": {
          "base_uri": "https://localhost:8080/"
        },
        "id": "DKmhuk13Qo5H",
        "outputId": "71389889-5149-44b0-bdd3-f64981c4c20e"
      },
      "execution_count": null,
      "outputs": [
        {
          "output_type": "stream",
          "name": "stdout",
          "text": [
            "Matriz full valores del mismo numeroi\n",
            "[[5 5 5 5]\n",
            " [5 5 5 5]\n",
            " [5 5 5 5]\n",
            " [5 5 5 5]]\n"
          ]
        }
      ]
    },
    {
      "cell_type": "code",
      "source": [
        "print(\"Matriz diagonal\")\n",
        "tmp=np.eye(4,4)\n",
        "print(tmp)"
      ],
      "metadata": {
        "colab": {
          "base_uri": "https://localhost:8080/"
        },
        "id": "9gUW4c_QQ3QH",
        "outputId": "5c9be906-8cda-49ce-b1a7-504ba427db6b"
      },
      "execution_count": null,
      "outputs": [
        {
          "output_type": "stream",
          "name": "stdout",
          "text": [
            "Matriz diagonal\n",
            "[[1. 0. 0. 0.]\n",
            " [0. 1. 0. 0.]\n",
            " [0. 0. 1. 0.]\n",
            " [0. 0. 0. 1.]]\n"
          ]
        }
      ]
    },
    {
      "cell_type": "code",
      "source": [
        "print(\"Matriz de 1\")\n",
        "tmp=np.ones((4,4))\n",
        "print(tmp)"
      ],
      "metadata": {
        "colab": {
          "base_uri": "https://localhost:8080/"
        },
        "id": "Lz-mbw9dRY_o",
        "outputId": "62b50835-ab30-43ca-af47-c31f22524ab3"
      },
      "execution_count": null,
      "outputs": [
        {
          "output_type": "stream",
          "name": "stdout",
          "text": [
            "Matriz de 1\n",
            "[[1. 1. 1. 1.]\n",
            " [1. 1. 1. 1.]\n",
            " [1. 1. 1. 1.]\n",
            " [1. 1. 1. 1.]]\n"
          ]
        }
      ]
    },
    {
      "cell_type": "code",
      "source": [
        "print(\"Numeros randoms\")\n",
        "tmp=10*np.random.random((4,4))\n",
        "print(tmp)\n",
        "print(tmp.shape)"
      ],
      "metadata": {
        "colab": {
          "base_uri": "https://localhost:8080/"
        },
        "id": "Qa4kH0RURlDg",
        "outputId": "8519c382-f168-4c47-a487-6207698386df"
      },
      "execution_count": null,
      "outputs": [
        {
          "output_type": "stream",
          "name": "stdout",
          "text": [
            "Numeros randoms\n",
            "[[3.87099725 8.37772372 0.96533027 0.0831836 ]\n",
            " [3.14379169 7.36991391 8.92648052 7.63092693]\n",
            " [3.59465839 6.67740175 8.70065556 5.32584737]\n",
            " [9.49497603 8.33375357 8.71878096 2.5746137 ]]\n",
            "(4, 4)\n"
          ]
        }
      ]
    },
    {
      "cell_type": "code",
      "source": [
        "print(tmp[:2,:2])"
      ],
      "metadata": {
        "colab": {
          "base_uri": "https://localhost:8080/"
        },
        "id": "kU1GSzouR2ng",
        "outputId": "810a33f5-6b38-48f9-a0d0-2b9849a4549a"
      },
      "execution_count": null,
      "outputs": [
        {
          "output_type": "stream",
          "name": "stdout",
          "text": [
            "[[3.87099725 8.37772372]\n",
            " [3.14379169 7.36991391]]\n"
          ]
        }
      ]
    },
    {
      "cell_type": "code",
      "source": [
        "print(tmp[:2,1:3])"
      ],
      "metadata": {
        "colab": {
          "base_uri": "https://localhost:8080/"
        },
        "id": "ALQMR7W3S-he",
        "outputId": "f581dab1-369b-4301-ea06-1f141de253db"
      },
      "execution_count": null,
      "outputs": [
        {
          "output_type": "stream",
          "name": "stdout",
          "text": [
            "[[8.37772372 0.96533027]\n",
            " [7.36991391 8.92648052]]\n"
          ]
        }
      ]
    },
    {
      "cell_type": "code",
      "source": [
        "print(tmp[3])"
      ],
      "metadata": {
        "colab": {
          "base_uri": "https://localhost:8080/"
        },
        "id": "5h7e0iYNTOpv",
        "outputId": "a3f95ea0-0031-48bf-9f2c-c039200ad368"
      },
      "execution_count": null,
      "outputs": [
        {
          "output_type": "stream",
          "name": "stdout",
          "text": [
            "[9.49497603 8.33375357 8.71878096 2.5746137 ]\n"
          ]
        }
      ]
    },
    {
      "cell_type": "code",
      "source": [
        "print(tmp[2,2])"
      ],
      "metadata": {
        "colab": {
          "base_uri": "https://localhost:8080/"
        },
        "id": "CqKFNynlTbeI",
        "outputId": "8a7bd8b1-cb89-4c56-c342-5a7bfd7c0034"
      },
      "execution_count": null,
      "outputs": [
        {
          "output_type": "stream",
          "name": "stdout",
          "text": [
            "8.700655560091976\n"
          ]
        }
      ]
    },
    {
      "cell_type": "code",
      "source": [
        "print(\"Numeros randoms\")\n",
        "tmp=10*np.random.random((4,4))\n",
        "print(tmp)\n",
        "print(tmp.shape)"
      ],
      "metadata": {
        "colab": {
          "base_uri": "https://localhost:8080/"
        },
        "id": "mtO72vjATyUg",
        "outputId": "6c044305-96e0-494f-e187-4e19a8d6bffa"
      },
      "execution_count": null,
      "outputs": [
        {
          "output_type": "stream",
          "name": "stdout",
          "text": [
            "Numeros randoms\n",
            "[[2.737012   5.11718879 3.45754038 6.93055782]\n",
            " [3.56688244 3.21072693 8.05972576 2.27792374]\n",
            " [3.52822103 4.12165481 3.40329619 8.46346545]\n",
            " [1.77995471 9.00676864 8.11754713 6.10598652]]\n",
            "(4, 4)\n"
          ]
        }
      ]
    },
    {
      "cell_type": "code",
      "source": [
        "mask=tmp>5\n",
        "print(tmp[mask])"
      ],
      "metadata": {
        "colab": {
          "base_uri": "https://localhost:8080/"
        },
        "id": "n9V4ha1vUKDo",
        "outputId": "b8751b6b-7459-4107-84e2-b466fbbe828a"
      },
      "execution_count": null,
      "outputs": [
        {
          "output_type": "stream",
          "name": "stdout",
          "text": [
            "[5.11718879 6.93055782 8.05972576 8.46346545 9.00676864 8.11754713\n",
            " 6.10598652]\n"
          ]
        }
      ]
    },
    {
      "cell_type": "code",
      "source": [
        "mask=(tmp>=2)&(tmp<=4)\n",
        "print(tmp[mask])"
      ],
      "metadata": {
        "colab": {
          "base_uri": "https://localhost:8080/"
        },
        "id": "Ts4y4mwpUciY",
        "outputId": "b0e90900-f829-42ee-c616-eb3396bd92d9"
      },
      "execution_count": null,
      "outputs": [
        {
          "output_type": "stream",
          "name": "stdout",
          "text": [
            "[2.737012   3.45754038 3.56688244 3.21072693 2.27792374 3.52822103\n",
            " 3.40329619]\n"
          ]
        }
      ]
    },
    {
      "cell_type": "code",
      "source": [
        "# Crear un arreglo de 4x4 con valores aleatorios enteros entre 1 y 100\n",
        "arreglo = np.random.randint(1, 101, size=(4, 4))\n",
        "\n",
        "print(\"Arreglo original:\")\n",
        "print(arreglo)\n",
        "\n",
        "# Crear una máscara booleana para los números pares\n",
        "mascara_pares = arreglo % 2 == 0\n",
        "\n",
        "# Aplicar la máscara para seleccionar los números pares\n",
        "numeros_pares = arreglo[mascara_pares]\n",
        "\n",
        "print(\"Números pares:\")\n",
        "print(numeros_pares)"
      ],
      "metadata": {
        "colab": {
          "base_uri": "https://localhost:8080/"
        },
        "id": "C-VD0F2rWC93",
        "outputId": "d46e5754-6c83-4379-d92a-5f5dba48917b"
      },
      "execution_count": null,
      "outputs": [
        {
          "output_type": "stream",
          "name": "stdout",
          "text": [
            "Arreglo original:\n",
            "[[87 56 44 29]\n",
            " [26 82 15 50]\n",
            " [87 43 90 81]\n",
            " [97 44 88 53]]\n",
            "Números pares:\n",
            "[56 44 26 82 50 90 44 88]\n"
          ]
        }
      ]
    },
    {
      "cell_type": "code",
      "source": [],
      "metadata": {
        "id": "sW83LUoSXRSg"
      },
      "execution_count": null,
      "outputs": []
    }
  ]
}