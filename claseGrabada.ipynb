{
  "nbformat": 4,
  "nbformat_minor": 0,
  "metadata": {
    "colab": {
      "provenance": [],
      "authorship_tag": "ABX9TyPm98/6WsrYXoTnBrKS3QBj",
      "include_colab_link": true
    },
    "kernelspec": {
      "name": "python3",
      "display_name": "Python 3"
    },
    "language_info": {
      "name": "python"
    }
  },
  "cells": [
    {
      "cell_type": "markdown",
      "metadata": {
        "id": "view-in-github",
        "colab_type": "text"
      },
      "source": [
        "<a href=\"https://colab.research.google.com/github/Jinnkazuma/dataML/blob/main/claseGrabada.ipynb\" target=\"_parent\"><img src=\"https://colab.research.google.com/assets/colab-badge.svg\" alt=\"Open In Colab\"/></a>"
      ]
    },
    {
      "cell_type": "markdown",
      "source": [
        "Tipos de Datos Basico"
      ],
      "metadata": {
        "id": "GSyWsEaemuPL"
      }
    },
    {
      "cell_type": "code",
      "source": [
        "#Declaracio, suma, operadores y caracteres\n",
        "sample1=10\n",
        "sample2=2.2\n",
        "sample3='Juan'\n",
        "print(type(sample1))\n",
        "print(type(sample2))\n",
        "print(type(sample3))\n",
        "\n",
        "print(sample1+sample2)\n",
        "print(sample1*sample2)\n",
        "print(sample1**2)\n",
        "\n",
        "s1=True\n",
        "s2=False\n",
        "\n",
        "print(s1 and s2)\n",
        "print(s1 or s2)\n",
        "print(not s1)\n",
        "\n",
        "print(len(sample3)) #cantidad de caracteres\n",
        "print(sample3.upper()) #todo mayuscula\n",
        "print(sample3.lower()) #todo minuscula\n",
        "print(sample3.capitalize()) #Primer caracter mayuscula"
      ],
      "metadata": {
        "id": "1ylhxLD76Eoa",
        "colab": {
          "base_uri": "https://localhost:8080/"
        },
        "outputId": "a5d61c1e-c49a-463f-c11c-2a25d1fa4242"
      },
      "execution_count": null,
      "outputs": [
        {
          "output_type": "stream",
          "name": "stdout",
          "text": [
            "<class 'int'>\n",
            "<class 'float'>\n",
            "<class 'str'>\n",
            "12.2\n",
            "22.0\n",
            "100\n",
            "False\n",
            "True\n",
            "False\n",
            "4\n",
            "JUAN\n",
            "juan\n",
            "Juan\n"
          ]
        }
      ]
    },
    {
      "cell_type": "code",
      "source": [
        "#Listas y array"
      ],
      "metadata": {
        "id": "azOL0V_zoLeD"
      },
      "execution_count": null,
      "outputs": []
    },
    {
      "cell_type": "code",
      "source": [
        "someList=list()\n",
        "someList=['borrador',1,'lapiz','cuaderno','telefono',True]\n",
        "print(someList[4])\n",
        "print(len(someList))\n",
        "\n",
        "print('---------------')\n",
        "for i in someList:\n",
        "  print(i)\n",
        "\n",
        "\n",
        "someList.append('regla')\n",
        "print('---------------')\n",
        "\n",
        "for i in someList:\n",
        "  print(i)\n",
        "\n",
        "print('---------------')\n",
        "someList.pop(2)\n",
        "print('---------------')\n",
        "\n",
        "for i in someList:\n",
        "  print(i)\n",
        "\n",
        "print('---------------')\n",
        "print(someList[1:6])\n",
        "print('---------------')\n",
        "print(someList[-1])\n",
        "print(someList[:3])\n"
      ],
      "metadata": {
        "id": "7i9VbZSZ3_b2",
        "colab": {
          "base_uri": "https://localhost:8080/"
        },
        "outputId": "9e9088b4-c7ff-49e5-dafe-ad82e6378311"
      },
      "execution_count": 27,
      "outputs": [
        {
          "output_type": "stream",
          "name": "stdout",
          "text": [
            "telefono\n",
            "6\n",
            "---------------\n",
            "borrador\n",
            "1\n",
            "lapiz\n",
            "cuaderno\n",
            "telefono\n",
            "True\n",
            "---------------\n",
            "borrador\n",
            "1\n",
            "lapiz\n",
            "cuaderno\n",
            "telefono\n",
            "True\n",
            "regla\n",
            "---------------\n",
            "---------------\n",
            "borrador\n",
            "1\n",
            "cuaderno\n",
            "telefono\n",
            "True\n",
            "regla\n",
            "---------------\n",
            "[1, 'cuaderno', 'telefono', True, 'regla']\n",
            "---------------\n",
            "regla\n",
            "['borrador', 1, 'cuaderno']\n"
          ]
        }
      ]
    },
    {
      "cell_type": "code",
      "source": [
        "d={'name':'juan','age':30,'city':'El Carmen'}\n",
        "print(d['name'])\n",
        "print(d['age'])\n",
        "print(d['city'])\n",
        "print('---------------')\n",
        "d['uni']='Uleam'\n",
        "print(d['uni'])\n",
        "print('---------------')\n",
        "for item in d:\n",
        "  print(item)\n",
        "print('---------------')\n",
        "for key in d:\n",
        "  print(d[key])"
      ],
      "metadata": {
        "colab": {
          "base_uri": "https://localhost:8080/"
        },
        "id": "h39GU9j56XpX",
        "outputId": "989c4e09-435e-4ba2-b449-39ee1910b4ba"
      },
      "execution_count": 41,
      "outputs": [
        {
          "output_type": "stream",
          "name": "stdout",
          "text": [
            "juan\n",
            "30\n",
            "El Carmen\n",
            "---------------\n",
            "Uleam\n",
            "---------------\n",
            "name\n",
            "age\n",
            "city\n",
            "uni\n",
            "---------------\n",
            "juan\n",
            "30\n",
            "El Carmen\n",
            "Uleam\n"
          ]
        }
      ]
    },
    {
      "cell_type": "code",
      "source": [
        "[]"
      ],
      "metadata": {
        "id": "7KY70T5FOe_g"
      },
      "execution_count": null,
      "outputs": []
    }
  ]
}