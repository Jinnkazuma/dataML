{
  "nbformat": 4,
  "nbformat_minor": 0,
  "metadata": {
    "colab": {
      "provenance": [],
      "include_colab_link": true
    },
    "kernelspec": {
      "name": "python3",
      "display_name": "Python 3"
    },
    "language_info": {
      "name": "python"
    }
  },
  "cells": [
    {
      "cell_type": "markdown",
      "metadata": {
        "id": "view-in-github",
        "colab_type": "text"
      },
      "source": [
        "<a href=\"https://colab.research.google.com/github/Jinnkazuma/dataML/blob/main/Exploring_NumPy_Operations.ipynb\" target=\"_parent\"><img src=\"https://colab.research.google.com/assets/colab-badge.svg\" alt=\"Open In Colab\"/></a>"
      ]
    },
    {
      "cell_type": "markdown",
      "source": [
        "NumPy Exercises for Data Analysis"
      ],
      "metadata": {
        "id": "hSsi2_-klame"
      }
    },
    {
      "cell_type": "code",
      "source": [
        "# Import numpy as np and see the version\n",
        "import numpy as np\n",
        "!python\n",
        "# your code here\n",
        "pass"
      ],
      "metadata": {
        "id": "kuK4TNepldem",
        "colab": {
          "base_uri": "https://localhost:8080/"
        },
        "outputId": "0b70f923-317c-4cb1-ced9-41d9bf50aa40"
      },
      "execution_count": 6,
      "outputs": [
        {
          "output_type": "stream",
          "name": "stdout",
          "text": [
            "Python 3.10.12 (main, Nov 20 2023, 15:14:05) [GCC 11.4.0] on linux\n",
            "Type \"help\", \"copyright\", \"credits\" or \"license\" for more information.\n",
            ">>> \n",
            "\n",
            "KeyboardInterrupt\n",
            ">>> \n",
            "KeyboardInterrupt\n",
            ">>> ^C\n"
          ]
        }
      ]
    },
    {
      "cell_type": "code",
      "source": [
        "# Create a 1D array of numbers from 0 to 9\n",
        "newArray=np.array(range(10))\n",
        "print(newArray)\n",
        "print(type(newArray))\n",
        "# your code here\n",
        "pass"
      ],
      "metadata": {
        "id": "hbYX-oMBlvS-",
        "colab": {
          "base_uri": "https://localhost:8080/"
        },
        "outputId": "3a3808f9-8651-4749-a129-5e3ea265b7da"
      },
      "execution_count": 2,
      "outputs": [
        {
          "output_type": "stream",
          "name": "stdout",
          "text": [
            "[0 1 2 3 4 5 6 7 8 9]\n",
            "<class 'numpy.ndarray'>\n"
          ]
        }
      ]
    },
    {
      "cell_type": "code",
      "source": [
        "# Create random vector of size 10 and replace the maximum value by 0\n",
        "# Create a random vector of size 10\n",
        "vector = np.random.randint(1,10,size=(10))\n",
        "\n",
        "# Replace the maximum value with 0\n",
        "vector[vector.argmax()] = 0\n",
        "\n",
        "print(vector)\n",
        "pass"
      ],
      "metadata": {
        "id": "HfsNmdvrwqsO",
        "colab": {
          "base_uri": "https://localhost:8080/"
        },
        "outputId": "99320bad-0db4-44ca-ec55-0c89b553ec39"
      },
      "execution_count": 3,
      "outputs": [
        {
          "output_type": "stream",
          "name": "stdout",
          "text": [
            "[7 6 7 1 3 8 5 0 6 1]\n"
          ]
        }
      ]
    },
    {
      "cell_type": "code",
      "source": [
        "# Print the number 8 from the array below:\n",
        "arr = np.array([[1,2,3,4,5], [6,7,8,9,10]])\n",
        "\n",
        "# Print the number 8\n",
        "print(arr[1,2])\n",
        "pass"
      ],
      "metadata": {
        "id": "a9T-W3uUoqcE",
        "colab": {
          "base_uri": "https://localhost:8080/"
        },
        "outputId": "6fdb540e-ab9e-482e-92e7-34514d00e26d"
      },
      "execution_count": 4,
      "outputs": [
        {
          "output_type": "stream",
          "name": "stdout",
          "text": [
            "8\n"
          ]
        }
      ]
    },
    {
      "cell_type": "code",
      "source": [
        "# Print the numbers [3, 4, 5] from the array below:\n",
        "arr = np.array([1,2,3,4,5,6,7])\n",
        "print(arr[2:5])\n",
        "pass"
      ],
      "metadata": {
        "id": "PqvPijs8o2ub",
        "colab": {
          "base_uri": "https://localhost:8080/"
        },
        "outputId": "4c879070-bbf8-442a-88aa-78b201777088"
      },
      "execution_count": 7,
      "outputs": [
        {
          "output_type": "stream",
          "name": "stdout",
          "text": [
            "[3 4 5]\n"
          ]
        }
      ]
    },
    {
      "cell_type": "code",
      "source": [
        "# Print the last 4 numbers from the array below:\n",
        "arr = np.array([1,2,3,4,5,6,7])\n",
        "print(arr[-4:])\n",
        "pass"
      ],
      "metadata": {
        "id": "H5iUCizHpk0L"
      },
      "execution_count": null,
      "outputs": []
    },
    {
      "cell_type": "code",
      "source": [
        "# Create a 3×3 numpy array of all True’s\n",
        "# your code here\n",
        "array = np.ones((3, 3), dtype=bool)\n",
        "print(array)\n",
        "pass"
      ],
      "metadata": {
        "id": "C9nBztXhl9NA"
      },
      "execution_count": null,
      "outputs": []
    },
    {
      "cell_type": "code",
      "source": [
        "# Extract all odd numbers from arr\n",
        "# your code here\n",
        "odd_numbers = arr[np.where(arr % 2 != 0)]\n",
        "print(odd_numbers)\n",
        "pass"
      ],
      "metadata": {
        "id": "W18lqbBwmIhw"
      },
      "execution_count": null,
      "outputs": []
    },
    {
      "cell_type": "code",
      "source": [
        "# Create a vector with values ranging from 10 to 49 (★☆☆)\n",
        "vector = np.arange(10, 50)\n",
        "\n",
        "print(vector)\n",
        "pass\n"
      ],
      "metadata": {
        "id": "hA9iXCAwr55v"
      },
      "execution_count": null,
      "outputs": []
    },
    {
      "cell_type": "code",
      "source": [
        "# Reverse a vector (first element becomes last)\n",
        "vector = np.array([1, 2, 3, 4, 5])\n",
        "\n",
        "# Reverse the vector using slicing\n",
        "reversed_vector = vector[::-1]\n",
        "\n",
        "print(reversed_vector)\n",
        "\n",
        "pass"
      ],
      "metadata": {
        "id": "R-_IjeHyr83q"
      },
      "execution_count": null,
      "outputs": []
    },
    {
      "cell_type": "code",
      "source": [
        "vector = np.array([1, 2, 3, 4, 5])\n",
        "\n",
        "# Reverse the vector using slicing\n",
        "reversed_vector = vector[::-1]\n",
        "\n",
        "print(reversed_vector)\n",
        "pass"
      ],
      "metadata": {
        "id": "rEWwl_weuq3B"
      },
      "execution_count": null,
      "outputs": []
    },
    {
      "cell_type": "code",
      "source": [
        "# Create a 3x3x3 array with random values\n",
        "array = np.random.randint(1, 10, size=(3, 3, 3))\n",
        "print(array)\n",
        "pass"
      ],
      "metadata": {
        "id": "KFy17KsvvSql"
      },
      "execution_count": null,
      "outputs": []
    },
    {
      "cell_type": "code",
      "source": [
        "# Replace all odd numbers in arr with -1\n",
        "# your code here\n",
        "arr = np.array([1, 2, 3, 4, 5])\n",
        "arr[arr % 2 != 0] = -1\n",
        "\n",
        "print(arr)\n",
        "pass"
      ],
      "metadata": {
        "id": "X7ol3alqmbNa"
      },
      "execution_count": null,
      "outputs": []
    },
    {
      "cell_type": "code",
      "source": [
        "# Create an array of type float\n",
        "array=np.random.rand(5)\n",
        "print(array)\n",
        "pass"
      ],
      "metadata": {
        "id": "GwdXYn9HqYTL"
      },
      "execution_count": null,
      "outputs": []
    },
    {
      "cell_type": "code",
      "source": [
        "# Convert a 1D array to a 2D array with 2 rows\n",
        "# your code here\n",
        "\n",
        "array = np.array([1, 2, 3, 4, 5, 6])\n",
        "\n",
        "array_2d = array.reshape((2, 3))\n",
        "\n",
        "print(array_2d)\n",
        "\n",
        "pass"
      ],
      "metadata": {
        "id": "LvcL1lUYoPjN"
      },
      "execution_count": null,
      "outputs": []
    },
    {
      "cell_type": "code",
      "source": [
        "# How to find common values between two arrays?\n",
        "\n",
        "Z1 = np.random.randint(0,10,10)\n",
        "Z2 = np.random.randint(0,10,10)\n",
        "\n",
        "#A\n",
        "common_values = np.intersect1d(Z1, Z2)\n",
        "print(common_values)\n",
        "\n",
        "#B\n",
        "common_values = Z1[np.isin(Z1, Z2)]\n",
        "print(common_values)\n",
        "\n",
        "\n",
        "\n",
        "\n",
        "pass"
      ],
      "metadata": {
        "id": "VbzMDKQvv0DX"
      },
      "execution_count": null,
      "outputs": []
    },
    {
      "cell_type": "code",
      "source": [
        "#  Consider two random array A and B, check if they are equal\n",
        "\n",
        "\n",
        "A = np.random.randint(0,2,5)\n",
        "B = np.random.randint(0,2,5)\n",
        "\n",
        "# Check if the two arrays are equal\n",
        "if np.array_equal(A, B):\n",
        "    print(\"The two arrays are equal.\")\n",
        "else:\n",
        "    print(\"The two arrays are not equal.\")\n",
        "pass"
      ],
      "metadata": {
        "id": "RWWspnDAwWGV"
      },
      "execution_count": null,
      "outputs": []
    },
    {
      "cell_type": "code",
      "source": [
        "# Stack arrays a and b vertically\n",
        "# your code here\n",
        "\n",
        "a = np.array([1, 2, 3, 4, 5])\n",
        "b = np.array([6, 7, 8, 9, 10])\n",
        "c = np.array([11, 12, 13, 14, 15])\n",
        "\n",
        "# Stack the three arrays vertically\n",
        "d = np.vstack((a, b, c))\n",
        "\n",
        "print(d)\n",
        "pass"
      ],
      "metadata": {
        "id": "SW3KvPXhoeie"
      },
      "execution_count": null,
      "outputs": []
    },
    {
      "cell_type": "code",
      "source": [
        "# Stack the arrays a and b horizontally.\n",
        "# your code here\n",
        "# Create two 1D arrays\n",
        "a = np.array([1, 2, 3, 4, 5])\n",
        "b = np.array([6, 7, 8, 9, 10])\n",
        "\n",
        "# Stack the two arrays horizontally\n",
        "c = np.hstack((a, b))\n",
        "\n",
        "print(c)\n",
        "pass"
      ],
      "metadata": {
        "id": "6wVOpIT9omwe"
      },
      "execution_count": null,
      "outputs": []
    },
    {
      "cell_type": "code",
      "source": [
        "# Get all items between 5 and 10 from array tmp.\n",
        "# your code here\n",
        "import numpy as np\n",
        "tmp = np.arange(15)\n",
        "\n",
        "# Get all items between 5 and 10 from array tmp\n",
        "items_between_5_and_10 = tmp[(tmp >= 5) & (tmp < 10)]\n",
        "\n",
        "print(items_between_5_and_10)\n",
        "\n",
        "# pass"
      ],
      "metadata": {
        "id": "L_7vMkGOo0gX"
      },
      "execution_count": null,
      "outputs": []
    },
    {
      "cell_type": "code",
      "source": [
        "# How to make a python function that handles scalars to work on numpy arrays?\n",
        "# Hint\n",
        "# Desired Output:\n",
        "# a = np.array([5, 7, 9, 8, 6, 4, 5])\n",
        "# b = np.array([6, 3, 4, 8, 9, 7, 1])\n",
        "# pair_max(a, b)\n",
        "# #> array([ 6.,  7.,  9.,  8.,  9.,  7.,  5.])\n",
        "\n",
        "\n",
        "# your code here\n",
        "import numpy as np\n",
        "\n",
        "def maxx(x, y):\n",
        "    \"\"\"Get the maximum of two items\"\"\"\n",
        "    if x >= y:\n",
        "        return x\n",
        "    else:\n",
        "        return y\n",
        "\n",
        "maxx(1, 5)\n",
        "print('-----------------')\n",
        "\n",
        "def maxx(x, y):\n",
        "    \"\"\"Get the maximum of two items\"\"\"\n",
        "    if x >= y:\n",
        "        return x\n",
        "    else:\n",
        "        return y\n",
        "\n",
        "# Vectorize the maxx() function\n",
        "maxx_vectorized = np.vectorize(maxx)\n",
        "\n",
        "a = np.array([5, 7, 9, 8, 6, 4, 5])\n",
        "b = np.array([6, 3, 4, 8, 9, 7, 1])\n",
        "\n",
        "# Get the maximum of two NumPy arrays\n",
        "c = maxx_vectorized(a, b)\n",
        "\n",
        "print(c)\n"
      ],
      "metadata": {
        "id": "FVZz6ZY0p9ya"
      },
      "execution_count": null,
      "outputs": []
    },
    {
      "cell_type": "code",
      "source": [
        "# Swap columns 1 and 2 in the array arr.\n",
        "# Hint\n",
        "# Desired Output:\n",
        "# [[0 2 1]\n",
        "#  [3 5 4]\n",
        "#  [6 8 7]]\n",
        "\n",
        "\n",
        "arr = np.arange(9).reshape(3,3)\n",
        "print(arr)\n",
        "# your code here\n",
        "\n",
        "arr = np.arange(9).reshape(3,3)\n",
        "\n",
        "arr[:, [1, 2]] = arr[:, [2, 1]]\n",
        "\n",
        "print(arr)\n",
        "pass\n"
      ],
      "metadata": {
        "id": "8vIzM5e8ql6i"
      },
      "execution_count": null,
      "outputs": []
    },
    {
      "cell_type": "code",
      "source": [
        "# Create a 2D array of shape 5x3 to contain random decimal numbers between 5 and 10.\n",
        "# Hint\n",
        "# The desired Output should be like the following one:\n",
        "#  [[ 8.50061025  9.10531502  6.85867783]\n",
        "#   [ 9.76262069  9.87717411  7.13466701]\n",
        "#   [ 7.48966403  8.33409158  6.16808631]\n",
        "#   [ 7.75010551  9.94535696  5.27373226]\n",
        "#   [ 8.0850361   5.56165518  7.31244004]]\n",
        "\n",
        "random_array = np.random.rand(5, 3) * 5 + 5\n",
        "\n",
        "print(random_array)"
      ],
      "metadata": {
        "id": "FOXX5b17rY7E"
      },
      "execution_count": null,
      "outputs": []
    }
  ]
}