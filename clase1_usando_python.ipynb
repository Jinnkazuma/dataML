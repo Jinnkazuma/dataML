{
  "cells": [
    {
      "cell_type": "markdown",
      "metadata": {
        "id": "view-in-github",
        "colab_type": "text"
      },
      "source": [
        "<a href=\"https://colab.research.google.com/github/Jinnkazuma/dataML/blob/main/clase1_usando_python.ipynb\" target=\"_parent\"><img src=\"https://colab.research.google.com/assets/colab-badge.svg\" alt=\"Open In Colab\"/></a>"
      ]
    },
    {
      "cell_type": "code",
      "execution_count": null,
      "metadata": {
        "colab": {
          "base_uri": "https://localhost:8080/"
        },
        "id": "kwXeMisURkpv",
        "outputId": "54979455-9753-4bce-d3dc-ca03f269a3b4"
      },
      "outputs": [
        {
          "output_type": "stream",
          "name": "stdout",
          "text": [
            "Python 3.10.12 (main, Jun 11 2023, 05:26:28) [GCC 11.4.0] on linux\n",
            "Type \"help\", \"copyright\", \"credits\" or \"license\" for more information.\n",
            ">>> \n",
            "\n",
            "KeyboardInterrupt\n",
            ">>> "
          ]
        }
      ],
      "source": [
        "!python"
      ]
    },
    {
      "cell_type": "code",
      "execution_count": 2,
      "metadata": {
        "id": "oVRtRgAOR72v"
      },
      "outputs": [],
      "source": [
        "num_1 = 1"
      ]
    },
    {
      "cell_type": "code",
      "execution_count": 3,
      "metadata": {
        "id": "iKMG6fRXSEi-"
      },
      "outputs": [],
      "source": [
        "num_2 = 2\n"
      ]
    },
    {
      "cell_type": "code",
      "execution_count": null,
      "metadata": {
        "id": "Wx8t8qQRSIK9"
      },
      "outputs": [],
      "source": [
        "print(num_1+num_2)\n"
      ]
    },
    {
      "cell_type": "code",
      "execution_count": null,
      "metadata": {
        "id": "WZp6PoGeSTmN"
      },
      "outputs": [],
      "source": [
        "pote = 1**num_2"
      ]
    },
    {
      "cell_type": "code",
      "execution_count": null,
      "metadata": {
        "colab": {
          "base_uri": "https://localhost:8080/"
        },
        "id": "BHQw0Ng7Soft",
        "outputId": "9352b110-90d0-4e7b-ed4c-3981d0393fde"
      },
      "outputs": [
        {
          "name": "stdout",
          "output_type": "stream",
          "text": [
            "1\n"
          ]
        }
      ],
      "source": [
        "print(pote)"
      ]
    },
    {
      "cell_type": "code",
      "execution_count": 4,
      "metadata": {
        "colab": {
          "base_uri": "https://localhost:8080/"
        },
        "id": "ISEIzKodSrMF",
        "outputId": "0c364557-77a2-463a-ef35-a903e890e684"
      },
      "outputs": [
        {
          "output_type": "stream",
          "name": "stdout",
          "text": [
            "False\n",
            "True\n",
            "False\n",
            "True\n"
          ]
        }
      ],
      "source": [
        "aux_1=True\n",
        "aux_2=False\n",
        "print(aux_1 and aux_2)\n",
        "print(aux_1 or aux_2)\n",
        "print(not aux_1)\n",
        "print(not aux_2)"
      ]
    },
    {
      "cell_type": "code",
      "execution_count": 5,
      "metadata": {
        "colab": {
          "base_uri": "https://localhost:8080/"
        },
        "id": "BkgGmsoHTXju",
        "outputId": "09fd841c-873e-4856-8f6c-dc465e0bdd9e"
      },
      "outputs": [
        {
          "output_type": "stream",
          "name": "stdout",
          "text": [
            "Anthony\n",
            "ANTHONY\n",
            "anthony\n"
          ]
        }
      ],
      "source": [
        "myName=\"Anthony\"\n",
        "print(myName)\n",
        "print(myName.upper())\n",
        "print(myName.lower())\n"
      ]
    },
    {
      "cell_type": "code",
      "execution_count": null,
      "metadata": {
        "colab": {
          "base_uri": "https://localhost:8080/"
        },
        "id": "N293nxJnUj6n",
        "outputId": "bd4b6f07-f41a-4055-993d-b11da0d63c42"
      },
      "outputs": [
        {
          "name": "stdout",
          "output_type": "stream",
          "text": [
            "anthony ; Choez ; Steven\n",
            "['anthony ', ' Choez ', ' Steven']\n"
          ]
        }
      ],
      "source": [
        "tmp='anthony ; Choez ; Steven'\n",
        "print(tmp)\n",
        "print(tmp.split(';'))"
      ]
    },
    {
      "cell_type": "code",
      "execution_count": null,
      "metadata": {
        "id": "2SZVELkkVPp9"
      },
      "outputs": [],
      "source": [
        "lista=('cuaderno','lapiz','borrador','regla')\n",
        "print(lista)\n",
        "nuevo_objeto='hoja'\n",
        "#lista.append(nuevo_objeto)\n",
        "print(lista)"
      ]
    },
    {
      "cell_type": "code",
      "execution_count": 6,
      "metadata": {
        "colab": {
          "base_uri": "https://localhost:8080/"
        },
        "id": "rd8lqi3SWFjW",
        "outputId": "e3009c00-928e-46e0-bc74-907e8c5c6e0d"
      },
      "outputs": [
        {
          "output_type": "stream",
          "name": "stdout",
          "text": [
            "[0, 1, 2, 3, 4, 5, 6, 7, 8, 9, 10, 11, 12, 13, 14, 15, 16, 17, 18, 19]\n",
            "[5, 6, 7, 8, 9, 10]\n",
            "19\n"
          ]
        }
      ],
      "source": [
        "newListeNum=list(range(20))\n",
        "print(newListeNum)\n",
        "print(newListeNum[5:11])\n",
        "print(newListeNum[-1])"
      ]
    },
    {
      "cell_type": "code",
      "execution_count": null,
      "metadata": {
        "id": "0XZkhxdFZC9H"
      },
      "outputs": [],
      "source": []
    }
  ],
  "metadata": {
    "colab": {
      "provenance": [],
      "authorship_tag": "ABX9TyMEnKOJ8xlLE1fM0+IZ11mE",
      "include_colab_link": true
    },
    "kernelspec": {
      "display_name": "Python 3",
      "name": "python3"
    },
    "language_info": {
      "name": "python"
    }
  },
  "nbformat": 4,
  "nbformat_minor": 0
}