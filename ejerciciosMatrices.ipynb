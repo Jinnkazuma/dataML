{
  "nbformat": 4,
  "nbformat_minor": 0,
  "metadata": {
    "colab": {
      "provenance": [],
      "authorship_tag": "ABX9TyOW+jJ5TpoXgn8pKOzcXSPZ",
      "include_colab_link": true
    },
    "kernelspec": {
      "name": "python3",
      "display_name": "Python 3"
    },
    "language_info": {
      "name": "python"
    }
  },
  "cells": [
    {
      "cell_type": "markdown",
      "metadata": {
        "id": "view-in-github",
        "colab_type": "text"
      },
      "source": [
        "<a href=\"https://colab.research.google.com/github/Jinnkazuma/dataML/blob/main/ejerciciosMatrices.ipynb\" target=\"_parent\"><img src=\"https://colab.research.google.com/assets/colab-badge.svg\" alt=\"Open In Colab\"/></a>"
      ]
    },
    {
      "cell_type": "code",
      "execution_count": 4,
      "metadata": {
        "id": "_gfAFneH58MK"
      },
      "outputs": [],
      "source": [
        "import numpy as np"
      ]
    },
    {
      "cell_type": "code",
      "source": [
        "a = np.random.randint(1,11, size=(3,4))\n",
        "b = np.random.randint(1,11, size=(3,4))\n",
        "print(a)\n",
        "print(a.shape)\n",
        "print(\"------------\")\n",
        "print(b)\n",
        "print(b.shape)\n",
        "print(\"------------\")\n",
        "print('adding numbers')\n",
        "print(a+b)\n",
        "print(\"------------\")\n",
        "print('subtracting numbers')\n",
        "print(a-b)\n",
        "print(\"------------\")\n",
        "print('Multiplicación numbers')\n",
        "print(a*b)\n",
        "print(np.add(a,b))\n",
        "print(np.multiply(a,b))\n",
        "\n",
        "print('divide numbers')\n",
        "print(np.add(a,b))\n",
        "print(np.divide(a,b))"
      ],
      "metadata": {
        "colab": {
          "base_uri": "https://localhost:8080/"
        },
        "id": "s9D1RvUm6hyl",
        "outputId": "4dbbd55e-06f2-4c59-bd3d-e5556128165c"
      },
      "execution_count": null,
      "outputs": [
        {
          "output_type": "stream",
          "name": "stdout",
          "text": [
            "[[ 2 10  7  5]\n",
            " [ 1  9 10  8]\n",
            " [ 3  4  3  4]]\n",
            "(3, 4)\n",
            "------------\n",
            "[[10  8  3  9]\n",
            " [ 7 10  4  7]\n",
            " [ 5  9  7  7]]\n",
            "(3, 4)\n",
            "------------\n",
            "adding numbers\n",
            "[[12 18 10 14]\n",
            " [ 8 19 14 15]\n",
            " [ 8 13 10 11]]\n",
            "------------\n",
            "subtracting numbers\n",
            "[[-8  2  4 -4]\n",
            " [-6 -1  6  1]\n",
            " [-2 -5 -4 -3]]\n",
            "------------\n",
            "Multiplicación numbers\n",
            "[[20 80 21 45]\n",
            " [ 7 90 40 56]\n",
            " [15 36 21 28]]\n",
            "[[12 18 10 14]\n",
            " [ 8 19 14 15]\n",
            " [ 8 13 10 11]]\n",
            "[[20 80 21 45]\n",
            " [ 7 90 40 56]\n",
            " [15 36 21 28]]\n",
            "divide numbers\n",
            "[[12 18 10 14]\n",
            " [ 8 19 14 15]\n",
            " [ 8 13 10 11]]\n",
            "[[0.2        1.25       2.33333333 0.55555556]\n",
            " [0.14285714 0.9        2.5        1.14285714]\n",
            " [0.6        0.44444444 0.42857143 0.57142857]]\n"
          ]
        }
      ]
    },
    {
      "cell_type": "code",
      "source": [
        "x = np.random.randint(1,11, size=(2,3))\n",
        "z = np.random.randint(1,11, size=(3,4))\n",
        "print(\"matriz x\")\n",
        "print(x)\n",
        "print(x.shape)\n",
        "print(\"------------------------\")\n",
        "print(\"matriz z\")\n",
        "print(z)\n",
        "print(z.shape)\n",
        "print(\"------------------------\")\n",
        "print(\"resultado de la multiplicacion de la matriz\")\n",
        "print(np.dot(x,z))\n",
        "print(\"------------------------\")\n",
        "print(\"x.dot(z)\")\n",
        "print(x.dot(z))"
      ],
      "metadata": {
        "colab": {
          "base_uri": "https://localhost:8080/"
        },
        "id": "ZUIxaW_d6w_E",
        "outputId": "1443e870-e127-4e4c-8b48-b7f673695d5c"
      },
      "execution_count": null,
      "outputs": [
        {
          "output_type": "stream",
          "name": "stdout",
          "text": [
            "matriz x\n",
            "[[ 8  7  7]\n",
            " [ 9 10  6]]\n",
            "(2, 3)\n",
            "------------------------\n",
            "matriz z\n",
            "[[4 3 4 1]\n",
            " [7 6 7 7]\n",
            " [8 7 4 8]]\n",
            "(3, 4)\n",
            "------------------------\n",
            "resultado de la multiplicacion de la matriz\n",
            "[[137 115 109 113]\n",
            " [154 129 130 127]]\n",
            "------------------------\n",
            "x.dot(z)\n",
            "[[137 115 109 113]\n",
            " [154 129 130 127]]\n"
          ]
        }
      ]
    },
    {
      "cell_type": "code",
      "source": [
        "print(\"obtener la matriz copuesta\")\n",
        "x = np.random.randint(1,11, size=(2,3))\n",
        "print(x.shape)\n",
        "print(type(x))\n",
        "print(x)\n",
        "print(x.T)"
      ],
      "metadata": {
        "colab": {
          "base_uri": "https://localhost:8080/"
        },
        "id": "vcX12yCb9oIc",
        "outputId": "fd106f60-3ac0-4c4a-895a-14c3b69661c9"
      },
      "execution_count": null,
      "outputs": [
        {
          "output_type": "stream",
          "name": "stdout",
          "text": [
            "obtener la matriz copuesta\n",
            "(2, 3)\n",
            "<class 'numpy.ndarray'>\n",
            "[[6 6 9]\n",
            " [4 3 7]]\n",
            "[[6 4]\n",
            " [6 3]\n",
            " [9 7]]\n"
          ]
        }
      ]
    },
    {
      "cell_type": "code",
      "source": [
        "print(\"Prodcast\")\n",
        "a = np.random.randint(1,11, size=(4,3))\n",
        "b = np.random.randint(1,11, size=(4,3))\n",
        "print(a.shape)\n",
        "\n",
        "c=np.empty_like(a)\n",
        "\n",
        "print(b.shape)\n",
        "print(\"----------\")\n",
        "print(b)\n"
      ],
      "metadata": {
        "colab": {
          "base_uri": "https://localhost:8080/"
        },
        "id": "CfYBRw48_WX8",
        "outputId": "468579b2-74f6-47e1-8971-18ef48705c3e"
      },
      "execution_count": 5,
      "outputs": [
        {
          "output_type": "stream",
          "name": "stdout",
          "text": [
            "Prodcast\n",
            "(4, 3)\n",
            "(4, 3)\n",
            "----------\n",
            "[[7 9 2]\n",
            " [4 4 2]\n",
            " [8 3 5]\n",
            " [8 2 3]]\n"
          ]
        }
      ]
    },
    {
      "cell_type": "code",
      "source": [
        "# Crear una matriz de 6x3 con valores 1, 2 y 3\n",
        "valores = [1, 2, 3]\n",
        "a = np.full((6, 3), valores)\n",
        "\n",
        "# Imprimir la matriz\n",
        "print(a)"
      ],
      "metadata": {
        "colab": {
          "base_uri": "https://localhost:8080/"
        },
        "id": "TkUtXoQ8CNcV",
        "outputId": "2043eedf-22fe-4923-feae-abcda40700e3"
      },
      "execution_count": null,
      "outputs": [
        {
          "output_type": "stream",
          "name": "stdout",
          "text": [
            "[[1 2 3]\n",
            " [1 2 3]\n",
            " [1 2 3]\n",
            " [1 2 3]\n",
            " [1 2 3]\n",
            " [1 2 3]]\n"
          ]
        }
      ]
    },
    {
      "cell_type": "code",
      "source": [
        "import numpy as np\n",
        "\n",
        "# Valores a repetir en la matriz\n",
        "a = np.array([1, 2, 3])\n",
        "\n",
        "# Crear una matriz de 6x3 repitiendo los valores\n",
        "b = np.tile(a, (6, 1))\n",
        "\n",
        "# Imprimir la matriz\n",
        "print(b)\n"
      ],
      "metadata": {
        "colab": {
          "base_uri": "https://localhost:8080/"
        },
        "id": "uKtuZyk7DfdV",
        "outputId": "4ee9d837-9b73-4fff-df77-0a5ee26258b1"
      },
      "execution_count": 8,
      "outputs": [
        {
          "output_type": "stream",
          "name": "stdout",
          "text": [
            "[[1 2 3]\n",
            " [1 2 3]\n",
            " [1 2 3]\n",
            " [1 2 3]\n",
            " [1 2 3]\n",
            " [1 2 3]]\n"
          ]
        }
      ]
    },
    {
      "cell_type": "code",
      "source": [
        "a=np.array([1,2,3])\n",
        "print(a)\n",
        "tmp=np.tile(a,(6,1))\n",
        "print(tmp)"
      ],
      "metadata": {
        "colab": {
          "base_uri": "https://localhost:8080/"
        },
        "id": "C4-ZJnCeE8yt",
        "outputId": "2c4ab679-c3f1-491c-86ec-8d841675a691"
      },
      "execution_count": 9,
      "outputs": [
        {
          "output_type": "stream",
          "name": "stdout",
          "text": [
            "[1 2 3]\n",
            "[[1 2 3]\n",
            " [1 2 3]\n",
            " [1 2 3]\n",
            " [1 2 3]\n",
            " [1 2 3]\n",
            " [1 2 3]]\n"
          ]
        }
      ]
    },
    {
      "cell_type": "code",
      "source": [
        "print(\"Promedio de todos los elementos de una matriz\")\n",
        "q = np.random.randint(20,31, size=(6,6))\n",
        "print(q)\n",
        "aux=np.mean(q)\n",
        "print(\"promedio: \",aux)\n",
        "\n",
        "# Calcula el promedio por fila\n",
        "fila = np.mean(q, axis=1)\n",
        "print(\"Promedio por fila: \",fila)\n",
        "\n",
        "# Calcula el promedio por columna\n",
        "columna = np.mean(q, axis=0)\n",
        "print(\"Promedio por columna: \",columna)"
      ],
      "metadata": {
        "colab": {
          "base_uri": "https://localhost:8080/"
        },
        "id": "MO-Qz8XDFMtN",
        "outputId": "0382e155-a37e-4e2a-f5e4-e2919d46dfb2"
      },
      "execution_count": 10,
      "outputs": [
        {
          "output_type": "stream",
          "name": "stdout",
          "text": [
            "Promedio de todos los elementos de una matriz\n",
            "[[27 29 23 25 21 21]\n",
            " [23 20 29 29 30 24]\n",
            " [26 26 23 20 22 20]\n",
            " [24 29 24 28 29 30]\n",
            " [20 26 26 29 30 21]\n",
            " [22 27 23 26 22 28]]\n",
            "promedio:  25.055555555555557\n",
            "Promedio por fila:  [24.33333333 25.83333333 22.83333333 27.33333333 25.33333333 24.66666667]\n",
            "Promedio por columna:  [23.66666667 26.16666667 24.66666667 26.16666667 25.66666667 24.        ]\n"
          ]
        }
      ]
    },
    {
      "cell_type": "code",
      "source": [
        "print(\"Promedio de todos los elementos de una matriz\")\n",
        "q = np.random.randint(20,31, size=(6,6))\n",
        "print(q)\n",
        "aux=np.mean(q)\n",
        "print(\"promedio: \",aux)\n",
        "\n",
        "print(q.mean(axis=1))"
      ],
      "metadata": {
        "colab": {
          "base_uri": "https://localhost:8080/"
        },
        "id": "mquXyx7vGCaF",
        "outputId": "e3ed9059-9618-41f3-e183-b883dfd5f9a2"
      },
      "execution_count": 11,
      "outputs": [
        {
          "output_type": "stream",
          "name": "stdout",
          "text": [
            "Promedio de todos los elementos de una matriz\n",
            "[[26 30 24 20 24 21]\n",
            " [21 26 27 25 28 23]\n",
            " [28 25 24 26 28 24]\n",
            " [26 25 21 25 27 29]\n",
            " [29 27 27 20 24 27]\n",
            " [30 22 22 25 26 21]]\n",
            "promedio:  25.083333333333332\n",
            "[24.16666667 25.         25.83333333 25.5        25.66666667 24.33333333]\n"
          ]
        }
      ]
    },
    {
      "cell_type": "code",
      "source": [],
      "metadata": {
        "id": "0oGX9Ww5H4xc"
      },
      "execution_count": null,
      "outputs": []
    }
  ]
}